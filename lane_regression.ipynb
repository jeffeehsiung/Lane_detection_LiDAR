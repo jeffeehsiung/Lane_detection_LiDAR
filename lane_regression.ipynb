{
 "cells": [
  {
   "cell_type": "code",
   "execution_count": 1,
   "id": "09a4bd61",
   "metadata": {},
   "outputs": [],
   "source": [
    "import os\n",
    "import numpy as np\n",
    "import itertools\n",
    "import time\n",
    "from scipy.spatial import distance\n",
    "from scipy.optimize import fsolve\n",
    "from sklearn.linear_model import RANSACRegressor\n",
    "from sklearn.metrics import mean_squared_error\n",
    "import matplotlib.pyplot as plt"
   ]
  },
  {
   "cell_type": "code",
   "execution_count": 2,
   "id": "b9bd3de8",
   "metadata": {},
   "outputs": [],
   "source": [
    "class PolynomialRegression(object):\n",
    "    def __init__(self, degree=3, coeffs=None):\n",
    "        self.degree = degree\n",
    "        self.coeffs = coeffs\n",
    "\n",
    "    def fit(self, X, y):\n",
    "        self.coeffs = np.polyfit(X.ravel(), y, self.degree)\n",
    "\n",
    "    def get_params(self, deep=False):\n",
    "        return {'coeffs': self.coeffs}\n",
    "\n",
    "    def set_params(self, coeffs=None, random_state=None):\n",
    "        self.coeffs = coeffs\n",
    "\n",
    "    def predict(self, X):\n",
    "        poly_eqn = np.poly1d(self.coeffs)\n",
    "        y_hat = poly_eqn(X.ravel())\n",
    "        return y_hat\n",
    "\n",
    "    def score(self, X, y):\n",
    "        return mean_squared_error(y, self.predict(X))"
   ]
  },
  {
   "cell_type": "code",
   "execution_count": 3,
   "id": "a8005859",
   "metadata": {},
   "outputs": [],
   "source": [
    "grid_dict = {}\n",
    "for y in (-1,1):\n",
    "    grid_list = [] \n",
    "\n",
    "    for x in range(5, -5, -1):\n",
    "        if y == -1:\n",
    "            grid_x_up_bound = x*8\n",
    "            grid_x_low_bound = (x-1)*8\n",
    "            grid_y_up_bound = (y+1)*3.9\n",
    "            grid_y_low_bound = y*3.9\n",
    "            grid = [grid_x_up_bound, grid_x_low_bound, grid_y_up_bound, grid_y_low_bound]\n",
    "            coord = (y, x)\n",
    "            grid_dict[coord] = grid\n",
    "        else:\n",
    "            grid_x_up_bound = x*8\n",
    "            grid_x_low_bound = (x-1)*8\n",
    "            grid_y_up_bound = y*3.9\n",
    "            grid_y_low_bound = (y-1)*3.9\n",
    "            grid = [grid_x_up_bound, grid_x_low_bound, grid_y_up_bound, grid_y_low_bound]\n",
    "            coord = (y, x)\n",
    "            grid_dict[coord] = grid\n",
    "        "
   ]
  },
  {
   "cell_type": "code",
   "execution_count": 4,
   "id": "95f971a0",
   "metadata": {
    "scrolled": true
   },
   "outputs": [
    {
     "name": "stdout",
     "output_type": "stream",
     "text": [
      "/Users/jeffeehsiung/Desktop/master thesis/Seoul_Robotics_lane_detection/processed_lidar/scene4.bin\n"
     ]
    }
   ],
   "source": [
    "data_folder = '/Users/jeffeehsiung/Desktop/master thesis/Seoul_Robotics_lane_detection/processed_lidar'\n",
    "lidar_files = sorted(os.listdir(data_folder))\n",
    "lidar_fpath = [os.path.join(data_folder, f) for f in lidar_files]\n",
    "lidar_bin = lidar_fpath[3]\n",
    "lidar_data = np.fromfile(lidar_bin, dtype=np.float32).reshape(-1, 5)\n",
    "print(lidar_bin)"
   ]
  },
  {
   "cell_type": "markdown",
   "id": "430cbe51",
   "metadata": {},
   "source": [
    "ㅡㅡㅡㅡㅡㅡㅡㅡㅡㅡㅡㅡㅡㅡㅡㅡㅡㅡㅡㅡㅡㅡㅡㅡㅡㅡㅡㅡㅡ"
   ]
  },
  {
   "cell_type": "code",
   "execution_count": 5,
   "id": "c2b55b02",
   "metadata": {},
   "outputs": [],
   "source": [
    "lidar_data[:, 2] = 0\n",
    "data_in_grid = {}\n",
    "for grid_cell_index, grid_cell_coord in enumerate(grid_dict):\n",
    "    x_upper_bound, x_lower_bound, y_upper_bound, y_lower_bound = grid_dict[grid_cell_coord]\n",
    "    inGrid_lidar_data = np.delete(lidar_data, np.where(\n",
    "    (lidar_data[:, 0] > x_upper_bound) |\n",
    "    (lidar_data[:, 0] <= x_lower_bound) |\n",
    "    (lidar_data[:, 1] > y_upper_bound) |\n",
    "    (lidar_data[:, 1] <= y_lower_bound))[0], axis = 0)\n",
    "    \n",
    "    data_in_grid[grid_cell_coord] = inGrid_lidar_data"
   ]
  },
  {
   "cell_type": "markdown",
   "id": "c4346cc4",
   "metadata": {},
   "source": [
    "ㅡㅡㅡㅡㅡㅡㅡㅡㅡㅡㅡㅡㅡㅡㅡㅡㅡㅡㅡㅡㅡㅡㅡㅡㅡㅡㅡㅡㅡ"
   ]
  },
  {
   "cell_type": "code",
   "execution_count": 6,
   "id": "efea08da",
   "metadata": {
    "scrolled": true
   },
   "outputs": [
    {
     "ename": "ValueError",
     "evalue": "Found array with 0 sample(s) (shape=(0, 1)) while a minimum of 1 is required by RANSACRegressor.",
     "output_type": "error",
     "traceback": [
      "\u001b[0;31m---------------------------------------------------------------------------\u001b[0m",
      "\u001b[0;31mValueError\u001b[0m                                Traceback (most recent call last)",
      "Cell \u001b[0;32mIn[6], line 41\u001b[0m\n\u001b[1;32m     35\u001b[0m down_grids_y \u001b[38;5;241m=\u001b[39m np\u001b[38;5;241m.\u001b[39msort(data_repres_down, axis \u001b[38;5;241m=\u001b[39m \u001b[38;5;241m0\u001b[39m)[:, \u001b[38;5;241m1\u001b[39m]\n\u001b[1;32m     37\u001b[0m ransac_up \u001b[38;5;241m=\u001b[39m RANSACRegressor(PolynomialRegression(degree\u001b[38;5;241m=\u001b[39m\u001b[38;5;241m3\u001b[39m),\n\u001b[1;32m     38\u001b[0m                          min_samples \u001b[38;5;241m=\u001b[39m \u001b[38;5;241m7\u001b[39m,    \n\u001b[1;32m     39\u001b[0m                          max_trials \u001b[38;5;241m=\u001b[39m \u001b[38;5;241m10000\u001b[39m,\n\u001b[1;32m     40\u001b[0m                          random_state\u001b[38;5;241m=\u001b[39m\u001b[38;5;241m0\u001b[39m)\n\u001b[0;32m---> 41\u001b[0m \u001b[43mransac_up\u001b[49m\u001b[38;5;241;43m.\u001b[39;49m\u001b[43mfit\u001b[49m\u001b[43m(\u001b[49m\u001b[43mnp\u001b[49m\u001b[38;5;241;43m.\u001b[39;49m\u001b[43mexpand_dims\u001b[49m\u001b[43m(\u001b[49m\u001b[43mup_grids_x\u001b[49m\u001b[43m,\u001b[49m\u001b[43m \u001b[49m\u001b[43maxis\u001b[49m\u001b[38;5;241;43m=\u001b[39;49m\u001b[38;5;241;43m1\u001b[39;49m\u001b[43m)\u001b[49m\u001b[43m,\u001b[49m\u001b[43m \u001b[49m\u001b[43mup_grids_y\u001b[49m\u001b[43m)\u001b[49m\n\u001b[1;32m     42\u001b[0m up_grids_y_pred \u001b[38;5;241m=\u001b[39m ransac_up\u001b[38;5;241m.\u001b[39mpredict(np\u001b[38;5;241m.\u001b[39mexpand_dims(up_grids_x, axis\u001b[38;5;241m=\u001b[39m\u001b[38;5;241m1\u001b[39m))\n\u001b[1;32m     43\u001b[0m up_lane_coeffs\u001b[38;5;241m=\u001b[39m ransac_up\u001b[38;5;241m.\u001b[39mestimator_\u001b[38;5;241m.\u001b[39mget_params(deep \u001b[38;5;241m=\u001b[39m \u001b[38;5;28;01mTrue\u001b[39;00m)[\u001b[38;5;124m\"\u001b[39m\u001b[38;5;124mcoeffs\u001b[39m\u001b[38;5;124m\"\u001b[39m]\n",
      "File \u001b[0;32m/usr/local/lib/python3.11/site-packages/sklearn/base.py:1152\u001b[0m, in \u001b[0;36m_fit_context.<locals>.decorator.<locals>.wrapper\u001b[0;34m(estimator, *args, **kwargs)\u001b[0m\n\u001b[1;32m   1145\u001b[0m     estimator\u001b[38;5;241m.\u001b[39m_validate_params()\n\u001b[1;32m   1147\u001b[0m \u001b[38;5;28;01mwith\u001b[39;00m config_context(\n\u001b[1;32m   1148\u001b[0m     skip_parameter_validation\u001b[38;5;241m=\u001b[39m(\n\u001b[1;32m   1149\u001b[0m         prefer_skip_nested_validation \u001b[38;5;129;01mor\u001b[39;00m global_skip_validation\n\u001b[1;32m   1150\u001b[0m     )\n\u001b[1;32m   1151\u001b[0m ):\n\u001b[0;32m-> 1152\u001b[0m     \u001b[38;5;28;01mreturn\u001b[39;00m \u001b[43mfit_method\u001b[49m\u001b[43m(\u001b[49m\u001b[43mestimator\u001b[49m\u001b[43m,\u001b[49m\u001b[43m \u001b[49m\u001b[38;5;241;43m*\u001b[39;49m\u001b[43margs\u001b[49m\u001b[43m,\u001b[49m\u001b[43m \u001b[49m\u001b[38;5;241;43m*\u001b[39;49m\u001b[38;5;241;43m*\u001b[39;49m\u001b[43mkwargs\u001b[49m\u001b[43m)\u001b[49m\n",
      "File \u001b[0;32m/usr/local/lib/python3.11/site-packages/sklearn/linear_model/_ransac.py:336\u001b[0m, in \u001b[0;36mRANSACRegressor.fit\u001b[0;34m(self, X, y, sample_weight)\u001b[0m\n\u001b[1;32m    334\u001b[0m check_X_params \u001b[38;5;241m=\u001b[39m \u001b[38;5;28mdict\u001b[39m(accept_sparse\u001b[38;5;241m=\u001b[39m\u001b[38;5;124m\"\u001b[39m\u001b[38;5;124mcsr\u001b[39m\u001b[38;5;124m\"\u001b[39m, force_all_finite\u001b[38;5;241m=\u001b[39m\u001b[38;5;28;01mFalse\u001b[39;00m)\n\u001b[1;32m    335\u001b[0m check_y_params \u001b[38;5;241m=\u001b[39m \u001b[38;5;28mdict\u001b[39m(ensure_2d\u001b[38;5;241m=\u001b[39m\u001b[38;5;28;01mFalse\u001b[39;00m)\n\u001b[0;32m--> 336\u001b[0m X, y \u001b[38;5;241m=\u001b[39m \u001b[38;5;28;43mself\u001b[39;49m\u001b[38;5;241;43m.\u001b[39;49m\u001b[43m_validate_data\u001b[49m\u001b[43m(\u001b[49m\n\u001b[1;32m    337\u001b[0m \u001b[43m    \u001b[49m\u001b[43mX\u001b[49m\u001b[43m,\u001b[49m\u001b[43m \u001b[49m\u001b[43my\u001b[49m\u001b[43m,\u001b[49m\u001b[43m \u001b[49m\u001b[43mvalidate_separately\u001b[49m\u001b[38;5;241;43m=\u001b[39;49m\u001b[43m(\u001b[49m\u001b[43mcheck_X_params\u001b[49m\u001b[43m,\u001b[49m\u001b[43m \u001b[49m\u001b[43mcheck_y_params\u001b[49m\u001b[43m)\u001b[49m\n\u001b[1;32m    338\u001b[0m \u001b[43m\u001b[49m\u001b[43m)\u001b[49m\n\u001b[1;32m    339\u001b[0m check_consistent_length(X, y)\n\u001b[1;32m    341\u001b[0m \u001b[38;5;28;01mif\u001b[39;00m \u001b[38;5;28mself\u001b[39m\u001b[38;5;241m.\u001b[39mestimator \u001b[38;5;129;01mis\u001b[39;00m \u001b[38;5;129;01mnot\u001b[39;00m \u001b[38;5;28;01mNone\u001b[39;00m:\n",
      "File \u001b[0;32m/usr/local/lib/python3.11/site-packages/sklearn/base.py:617\u001b[0m, in \u001b[0;36mBaseEstimator._validate_data\u001b[0;34m(self, X, y, reset, validate_separately, cast_to_ndarray, **check_params)\u001b[0m\n\u001b[1;32m    615\u001b[0m \u001b[38;5;28;01mif\u001b[39;00m \u001b[38;5;124m\"\u001b[39m\u001b[38;5;124mestimator\u001b[39m\u001b[38;5;124m\"\u001b[39m \u001b[38;5;129;01mnot\u001b[39;00m \u001b[38;5;129;01min\u001b[39;00m check_X_params:\n\u001b[1;32m    616\u001b[0m     check_X_params \u001b[38;5;241m=\u001b[39m {\u001b[38;5;241m*\u001b[39m\u001b[38;5;241m*\u001b[39mdefault_check_params, \u001b[38;5;241m*\u001b[39m\u001b[38;5;241m*\u001b[39mcheck_X_params}\n\u001b[0;32m--> 617\u001b[0m X \u001b[38;5;241m=\u001b[39m \u001b[43mcheck_array\u001b[49m\u001b[43m(\u001b[49m\u001b[43mX\u001b[49m\u001b[43m,\u001b[49m\u001b[43m \u001b[49m\u001b[43minput_name\u001b[49m\u001b[38;5;241;43m=\u001b[39;49m\u001b[38;5;124;43m\"\u001b[39;49m\u001b[38;5;124;43mX\u001b[39;49m\u001b[38;5;124;43m\"\u001b[39;49m\u001b[43m,\u001b[49m\u001b[43m \u001b[49m\u001b[38;5;241;43m*\u001b[39;49m\u001b[38;5;241;43m*\u001b[39;49m\u001b[43mcheck_X_params\u001b[49m\u001b[43m)\u001b[49m\n\u001b[1;32m    618\u001b[0m \u001b[38;5;28;01mif\u001b[39;00m \u001b[38;5;124m\"\u001b[39m\u001b[38;5;124mestimator\u001b[39m\u001b[38;5;124m\"\u001b[39m \u001b[38;5;129;01mnot\u001b[39;00m \u001b[38;5;129;01min\u001b[39;00m check_y_params:\n\u001b[1;32m    619\u001b[0m     check_y_params \u001b[38;5;241m=\u001b[39m {\u001b[38;5;241m*\u001b[39m\u001b[38;5;241m*\u001b[39mdefault_check_params, \u001b[38;5;241m*\u001b[39m\u001b[38;5;241m*\u001b[39mcheck_y_params}\n",
      "File \u001b[0;32m/usr/local/lib/python3.11/site-packages/sklearn/utils/validation.py:967\u001b[0m, in \u001b[0;36mcheck_array\u001b[0;34m(array, accept_sparse, accept_large_sparse, dtype, order, copy, force_all_finite, ensure_2d, allow_nd, ensure_min_samples, ensure_min_features, estimator, input_name)\u001b[0m\n\u001b[1;32m    965\u001b[0m     n_samples \u001b[38;5;241m=\u001b[39m _num_samples(array)\n\u001b[1;32m    966\u001b[0m     \u001b[38;5;28;01mif\u001b[39;00m n_samples \u001b[38;5;241m<\u001b[39m ensure_min_samples:\n\u001b[0;32m--> 967\u001b[0m         \u001b[38;5;28;01mraise\u001b[39;00m \u001b[38;5;167;01mValueError\u001b[39;00m(\n\u001b[1;32m    968\u001b[0m             \u001b[38;5;124m\"\u001b[39m\u001b[38;5;124mFound array with \u001b[39m\u001b[38;5;132;01m%d\u001b[39;00m\u001b[38;5;124m sample(s) (shape=\u001b[39m\u001b[38;5;132;01m%s\u001b[39;00m\u001b[38;5;124m) while a\u001b[39m\u001b[38;5;124m\"\u001b[39m\n\u001b[1;32m    969\u001b[0m             \u001b[38;5;124m\"\u001b[39m\u001b[38;5;124m minimum of \u001b[39m\u001b[38;5;132;01m%d\u001b[39;00m\u001b[38;5;124m is required\u001b[39m\u001b[38;5;132;01m%s\u001b[39;00m\u001b[38;5;124m.\u001b[39m\u001b[38;5;124m\"\u001b[39m\n\u001b[1;32m    970\u001b[0m             \u001b[38;5;241m%\u001b[39m (n_samples, array\u001b[38;5;241m.\u001b[39mshape, ensure_min_samples, context)\n\u001b[1;32m    971\u001b[0m         )\n\u001b[1;32m    973\u001b[0m \u001b[38;5;28;01mif\u001b[39;00m ensure_min_features \u001b[38;5;241m>\u001b[39m \u001b[38;5;241m0\u001b[39m \u001b[38;5;129;01mand\u001b[39;00m array\u001b[38;5;241m.\u001b[39mndim \u001b[38;5;241m==\u001b[39m \u001b[38;5;241m2\u001b[39m:\n\u001b[1;32m    974\u001b[0m     n_features \u001b[38;5;241m=\u001b[39m array\u001b[38;5;241m.\u001b[39mshape[\u001b[38;5;241m1\u001b[39m]\n",
      "\u001b[0;31mValueError\u001b[0m: Found array with 0 sample(s) (shape=(0, 1)) while a minimum of 1 is required by RANSACRegressor."
     ]
    }
   ],
   "source": [
    "min_sample_threshold = 5\n",
    "data_repres_up = np.empty((0, 5)) \n",
    "data_repres_down = np.empty((0, 5)) \n",
    "iteration = 0\n",
    "max_iter = 1000\n",
    "prev_error = 1000\n",
    "\n",
    "start = time.time()\n",
    "while iteration <= max_iter:\n",
    "    for y in (-1, 1):\n",
    "        for x in range(5, -5, -1):\n",
    "            if y == -1:\n",
    "                if len(data_in_grid[y, x]) >= min_sample_threshold:\n",
    "                    idx = np.random.randint(len(data_in_grid[y, x]), size = 3)\n",
    "                    data_repres_up = np.append(data_repres_up, data_in_grid[y, x][idx, :], axis = 0)\n",
    "                elif len(data_in_grid[y, x]) == 0:\n",
    "                    pass\n",
    "                else:\n",
    "                    idx = np.random.randint(len(data_in_grid[y, x]), size = len(data_in_grid[y,x]))\n",
    "                    data_repres_up = np.append(data_repres_up, data_in_grid[y, x][idx, :], axis = 0)\n",
    "\n",
    "            elif y == 1:\n",
    "                if len(data_in_grid[y, x]) >= min_sample_threshold:\n",
    "                    idx = np.random.randint(len(data_in_grid[y, x]), size = 3)\n",
    "                    data_repres_down = np.append(data_repres_down, data_in_grid[y, x][idx, :], axis = 0)\n",
    "                elif len(data_in_grid[y, x]) == 0:\n",
    "                    pass\n",
    "                else:\n",
    "                    idx = np.random.randint(len(data_in_grid[y, x]), size = len(data_in_grid[y,x]))\n",
    "                    data_repres_up = np.append(data_repres_up, data_in_grid[y, x][idx, :], axis = 0)\n",
    "                    \n",
    "    up_grids_x = np.sort(data_repres_up, axis = 0)[:, 0] \n",
    "    up_grids_y = np.sort(data_repres_up, axis = 0)[:, 1]\n",
    "    down_grids_x = np.sort(data_repres_down, axis = 0)[:, 0] \n",
    "    down_grids_y = np.sort(data_repres_down, axis = 0)[:, 1]\n",
    "\n",
    "    ransac_up = RANSACRegressor(PolynomialRegression(degree=3),\n",
    "                             min_samples = 7,    \n",
    "                             max_trials = 10000,\n",
    "                             random_state=0)\n",
    "    ransac_up.fit(np.expand_dims(up_grids_x, axis=1), up_grids_y)\n",
    "    up_grids_y_pred = ransac_up.predict(np.expand_dims(up_grids_x, axis=1))\n",
    "    up_lane_coeffs= ransac_up.estimator_.get_params(deep = True)[\"coeffs\"]\n",
    "\n",
    "    ransac_down = RANSACRegressor(PolynomialRegression(degree=3), \n",
    "                             min_samples = 7,    \n",
    "                             max_trials = 10000,\n",
    "                             random_state=0)\n",
    "    ransac_down.fit(np.expand_dims(down_grids_x, axis=1), down_grids_y)\n",
    "    down_grids_y_pred = ransac_down.predict(np.expand_dims(down_grids_x, axis=1))\n",
    "    down_lane_coeffs = ransac_down.estimator_.get_params(deep = True)[\"coeffs\"]\n",
    "    \n",
    "    ego_lane_coeffs_pair = np.append(down_lane_coeffs, up_lane_coeffs, axis = 0)       \n",
    "    curr_error = cost(up_lane_coeffs, down_lane_coeffs)\n",
    "    \n",
    "    if curr_error < prev_error:\n",
    "        prev_error = curr_error \n",
    "        best_coeffs_pair = ego_lane_coeffs_pair\n",
    "\n",
    "    iteration += 1\n",
    "    end = time.time()\n",
    "    print(end - start)\n",
    "    print(iteration)\n",
    "\n",
    "print(\"time spent: {:.2f} sec\".format(time.time() - start)) \n",
    "print(best_coeffs_pair)\n",
    "print(prev_error)\n",
    "\n",
    "# saved as txt file in the sample_output folder in the format of each line of four coefficients per time \n",
    "# ... rest of your code ...\n",
    "\n",
    "# Convert the best_coeffs_pair to a 2D array with 4 columns\n",
    "best_coeffs_pair = best_coeffs_pair.reshape(-1, 4)\n",
    "\n",
    "# Save the coefficients to a text file, with each number formatted as a floating-point number\n",
    "# and numbers separated by semicolons\n",
    "np.savetxt('sample_output/1553567105504169477.txt', best_coeffs_pair, fmt='%.15e', delimiter=';')\n",
    "\n",
    "# ... rest of your code ...\n"
   ]
  },
  {
   "cell_type": "markdown",
   "id": "dad7996a",
   "metadata": {},
   "source": [
    "ㅡㅡㅡㅡㅡㅡㅡㅡㅡㅡㅡㅡㅡㅡㅡㅡㅡㅡㅡㅡㅡㅡㅡㅡㅡㅡㅡㅡㅡㅡㅡㅡ"
   ]
  },
  {
   "cell_type": "markdown",
   "id": "08451518",
   "metadata": {},
   "source": [
    "# cost function\n"
   ]
  },
  {
   "cell_type": "code",
   "execution_count": null,
   "id": "3746c5b6",
   "metadata": {},
   "outputs": [],
   "source": [
    "def cost(up_lane_coeffs, down_lane_coeffs):\n",
    "    \n",
    "    x_list = list(range(-40, 41, 1))\n",
    "    interval_truth = list(itertools.repeat(3, 81)) \n",
    "    interval_measured = [] \n",
    "\n",
    "    for x_test in x_list:\n",
    "        y_down = down_lane_coeffs[0]*x_test**3 + down_lane_coeffs[1]*x_test**2 + down_lane_coeffs[2]*x_test + down_lane_coeffs[3]\n",
    "        deriv_y_down = 3*down_lane_coeffs[0]*x_test**2 + 2*down_lane_coeffs[1]*x_test+down_lane_coeffs[2]\n",
    "\n",
    "        y_down_perp_line = lambda x: -1/deriv_y_down*(x-x_test) + y_down\n",
    "        y_up = lambda x: up_lane_coeffs[0]*x**3 + up_lane_coeffs[1]*x**2 + up_lane_coeffs[2]*x + up_lane_coeffs[3]\n",
    "\n",
    "        intersection_x = findIntersection(y_down_perp_line, y_up, x_test)[0]\n",
    "        intersection_y = y_down_perp_line(intersection_x)\n",
    "\n",
    "        dist = distance.euclidean([intersection_x, intersection_y], [x_test, y_down])\n",
    "        interval_measured.append(dist)\n",
    "    \n",
    "    cost = mean_squared_error(interval_truth, interval_measured)\n",
    "    return cost \n",
    "\n",
    "def findIntersection(fun1, fun2, x0):\n",
    "    return fsolve(lambda x: fun1(x) - fun2(x), x0)"
   ]
  }
 ],
 "metadata": {
  "kernelspec": {
   "display_name": "Python 3",
   "language": "python",
   "name": "python3"
  },
  "language_info": {
   "codemirror_mode": {
    "name": "ipython",
    "version": 3
   },
   "file_extension": ".py",
   "mimetype": "text/x-python",
   "name": "python",
   "nbconvert_exporter": "python",
   "pygments_lexer": "ipython3",
   "version": "3.11.7"
  }
 },
 "nbformat": 4,
 "nbformat_minor": 5
}
